{
 "cells": [
  {
   "cell_type": "code",
   "execution_count": 27,
   "metadata": {
    "collapsed": false
   },
   "outputs": [
    {
     "ename": "SystemError",
     "evalue": "Parent module '' not loaded, cannot perform relative import",
     "output_type": "error",
     "traceback": [
      "\u001b[1;31m---------------------------------------------------------------------------\u001b[0m",
      "\u001b[1;31mSystemError\u001b[0m                               Traceback (most recent call last)",
      "\u001b[1;32m<ipython-input-27-1bf17adb9ba4>\u001b[0m in \u001b[0;36m<module>\u001b[1;34m()\u001b[0m\n\u001b[0;32m      3\u001b[0m \u001b[1;32mimport\u001b[0m \u001b[0mmatplotlib\u001b[0m\u001b[1;33m.\u001b[0m\u001b[0mpyplot\u001b[0m \u001b[1;32mas\u001b[0m \u001b[0mplt\u001b[0m\u001b[1;33m\u001b[0m\u001b[0m\n\u001b[0;32m      4\u001b[0m \u001b[1;32mimport\u001b[0m \u001b[0mscipy\u001b[0m\u001b[1;33m.\u001b[0m\u001b[0mndimage\u001b[0m\u001b[1;33m\u001b[0m\u001b[0m\n\u001b[1;32m----> 5\u001b[1;33m \u001b[1;32mfrom\u001b[0m \u001b[1;33m.\u001b[0m\u001b[1;33m.\u001b[0m\u001b[0mimage_loader\u001b[0m \u001b[1;32mimport\u001b[0m \u001b[0mload_image\u001b[0m\u001b[1;33m\u001b[0m\u001b[0m\n\u001b[0m\u001b[0;32m      6\u001b[0m \u001b[1;32mfrom\u001b[0m \u001b[1;33m.\u001b[0m\u001b[1;33m.\u001b[0m\u001b[0medge_detection\u001b[0m \u001b[1;32mimport\u001b[0m \u001b[0mdetect_edge\u001b[0m\u001b[1;33m\u001b[0m\u001b[0m\n\u001b[0;32m      7\u001b[0m \u001b[1;33m\u001b[0m\u001b[0m\n",
      "\u001b[1;31mSystemError\u001b[0m: Parent module '' not loaded, cannot perform relative import"
     ]
    }
   ],
   "source": [
    "# Initial setup\n",
    "import numpy as np\n",
    "import matplotlib.pyplot as plt\n",
    "import scipy.ndimage\n",
    "from ..image_loader import load_image\n",
    "from ..edge_detection import detect_edge\n",
    "\n",
    "# Begin plotting inline\n",
    "#%matplotlib inline\n",
    "%matplotlib qt"
   ]
  },
  {
   "cell_type": "code",
   "execution_count": 18,
   "metadata": {
    "collapsed": true
   },
   "outputs": [],
   "source": [
    "# Find nearest array value\n",
    "def find_nearest(array,value):\n",
    "    idx = (np.abs(array-value)).argmin()\n",
    "    return array[idx]"
   ]
  },
  {
   "cell_type": "code",
   "execution_count": 19,
   "metadata": {
    "collapsed": true
   },
   "outputs": [],
   "source": [
    "# Mouse click function to store coordinates\n",
    "def onclick(event):\n",
    "    global ix, iy\n",
    "    ix, iy = event.xdata, event.ydata\n",
    "    \n",
    "    print('x = %d, y = %d' % (ix, iy))\n",
    "\n",
    "    # assign global variable to access outside of function\n",
    "    global coords\n",
    "    coords.append((ix, iy))\n",
    "\n",
    "    # Disconnect after 2 clicks\n",
    "    if len(coords) == 2:\n",
    "        fig.canvas.mpl_disconnect(cid)\n",
    "        plt.close(1)\n",
    "    return"
   ]
  },
  {
   "cell_type": "code",
   "execution_count": 20,
   "metadata": {
    "collapsed": true
   },
   "outputs": [],
   "source": [
    "# Generate some example data\n",
    "#x, y = np.mgrid[-5:5:0.1, -5:5:0.1]\n",
    "#z = np.sqrt(x**2 + y**2) + np.sin(x**2 + y**2)\n",
    "\n",
    "# Example edge binary image\n",
    "test_file = pth.join('.', 'tests', 'test_data', '10_circles_colour.gif')\n",
    "image_in = load_image(test_file)\n",
    "z = detect_edge(image_in)"
   ]
  },
  {
   "cell_type": "code",
   "execution_count": 21,
   "metadata": {
    "collapsed": false
   },
   "outputs": [],
   "source": [
    "# Plot this image inline\n",
    "fig = plt.figure()\n",
    "axes = fig.add_subplot(111)\n",
    "axes.imshow(z)\n",
    "axes.axis('image')\n",
    "axes.set_title('Binary edges image')\n",
    "\n",
    "plt.show()"
   ]
  },
  {
   "cell_type": "code",
   "execution_count": 22,
   "metadata": {
    "collapsed": false
   },
   "outputs": [
    {
     "name": "stdout",
     "output_type": "stream",
     "text": [
      "Picked coordinates:\n",
      "x = 18, y = 14\n",
      "x = 28, y = 75"
     ]
    }
   ],
   "source": [
    "# Call click function to select profile:\n",
    "coords = [] # initialise array to store picked coords\n",
    "\n",
    "print(\"Picked coordinates:\")\n",
    "\n",
    "cid = fig.canvas.mpl_connect('button_press_event', onclick)\n",
    "\n",
    "plt.show()"
   ]
  },
  {
   "cell_type": "code",
   "execution_count": 23,
   "metadata": {
    "collapsed": false
   },
   "outputs": [
    {
     "name": "stdout",
     "output_type": "stream",
     "text": [
      "\n"
     ]
    }
   ],
   "source": [
    "# Extract the profile as nearest-neighbour pixel values\n",
    "x0 = coords[0][0]\n",
    "x1 = coords[1][0]\n",
    "y0 = coords[0][1]\n",
    "y1 = coords[1][1]\n",
    "\n",
    "length = int(np.hypot(x1-x0, y1-y0))\n",
    "x, y = np.linspace(x0, x1, length), np.linspace(y0, y1, length)\n",
    "profile = z[x.astype(np.int), y.astype(np.int)]"
   ]
  },
  {
   "cell_type": "code",
   "execution_count": 24,
   "metadata": {
    "collapsed": false
   },
   "outputs": [
    {
     "data": {
      "text/plain": [
       "[<matplotlib.lines.Line2D at 0xc273c88>]"
      ]
     },
     "execution_count": 24,
     "metadata": {},
     "output_type": "execute_result"
    }
   ],
   "source": [
    "# Plot to show where the profile is and the profile values\n",
    "fig, axes = plt.subplots(nrows=2)\n",
    "axes[0].imshow(z)\n",
    "axes[0].plot([x0, x1], [y0, y1], 'k-')\n",
    "axes[0].plot(x0, y0, 'go')\n",
    "axes[0].plot(x1, y1, 'ro')\n",
    "axes[0].axis('image')\n",
    "\n",
    "axes[1].plot(profile,'ko-')\n",
    "axes[1].plot(0,profile[0],'go')\n",
    "axes[1].plot(len(profile)-1,profile[-1],'ro')"
   ]
  },
  {
   "cell_type": "code",
   "execution_count": null,
   "metadata": {
    "collapsed": true
   },
   "outputs": [],
   "source": []
  }
 ],
 "metadata": {
  "kernelspec": {
   "display_name": "Python 3",
   "language": "python",
   "name": "python3"
  },
  "language_info": {
   "codemirror_mode": {
    "name": "ipython",
    "version": 3
   },
   "file_extension": ".py",
   "mimetype": "text/x-python",
   "name": "python",
   "nbconvert_exporter": "python",
   "pygments_lexer": "ipython3",
   "version": "3.5.1"
  }
 },
 "nbformat": 4,
 "nbformat_minor": 0
}
