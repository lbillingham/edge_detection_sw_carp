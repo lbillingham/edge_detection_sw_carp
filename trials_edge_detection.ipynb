{
 "cells": [
  {
   "cell_type": "code",
   "execution_count": 22,
   "metadata": {
    "collapsed": false
   },
   "outputs": [],
   "source": [
    "import numpy as np\n",
    "import matplotlib.pyplot as plt\n",
    "from scipy import ndimage as ndi\n",
    "\n",
    "from skimage.draw import circle, circle_perimeter"
   ]
  },
  {
   "cell_type": "code",
   "execution_count": 23,
   "metadata": {
    "collapsed": true
   },
   "outputs": [],
   "source": [
    "from skimage import feature"
   ]
  },
  {
   "cell_type": "code",
   "execution_count": 24,
   "metadata": {
    "collapsed": false
   },
   "outputs": [],
   "source": [
    "# Generate noisy image of a square\n",
    "#im = np.zeros((150, 150))   #background\n",
    "#im[32:-32, 32:-32] = 1      #make the square\n",
    "\n",
    "#im = ndi.rotate(im, 15, mode='constant')    #rotate, 2nd param is the angle\n",
    "#im = ndi.gaussian_filter(im, 4)             #blurr edges, 2nd param is the SD of Gaussian Filter\n",
    "#im += 0.5 * np.random.random(im.shape)      #add noise; the leading param is noise strength; \n",
    "                                            #np.rd.rd returns random floats in the half-open interval [0.0, 1.0)"
   ]
  },
  {
   "cell_type": "code",
   "execution_count": 25,
   "metadata": {
    "collapsed": false
   },
   "outputs": [],
   "source": [
    "#generate circle\n",
    "im = np.zeros((200, 200))\n",
    "rr, cc = circle(100, 100, 50)\n",
    "im[rr, cc] = 1\n",
    "im = ndi.gaussian_filter(im, 4)\n",
    "im += 0.5 * np.random.random(im.shape)\n",
    "#fig = plt.imshow(im,cmap=plt.cm.jet)\n",
    "#plt.axis('off')\n",
    "#plt.savefig('blurry.png')\n",
    "#print(im.shape)\n",
    "#print(im.shape == (200,200))"
   ]
  },
  {
   "cell_type": "code",
   "execution_count": 26,
   "metadata": {
    "collapsed": false
   },
   "outputs": [],
   "source": [
    "# Compute the Canny filter for two values of sigma\n",
    "edges1 = feature.canny(im)\n",
    "edges2 = feature.canny(im, sigma=6)"
   ]
  },
  {
   "cell_type": "code",
   "execution_count": 27,
   "metadata": {
    "collapsed": false
   },
   "outputs": [],
   "source": [
    "# display results\n",
    "fig, (ax1, ax2, ax3) = plt.subplots(nrows=1, ncols=3, figsize=(10, 5), sharex=True, sharey=True)\n",
    "\n",
    "ax1.imshow(im, cmap=plt.cm.jet)\n",
    "ax1.axis('off')\n",
    "ax1.set_title('noisy image', fontsize=20)\n",
    "\n",
    "ax2.imshow(edges1, cmap=plt.cm.gray)\n",
    "ax2.axis('off')\n",
    "ax2.set_title('Canny filter, $\\sigma=1$', fontsize=20)\n",
    "\n",
    "ax3.imshow(edges2, cmap=plt.cm.gray)\n",
    "ax3.axis('off')\n",
    "ax3.set_title('Canny filter, $\\sigma>1$', fontsize=20)\n",
    "\n",
    "fig.subplots_adjust(wspace=0.02, hspace=0.02, top=0.9,\n",
    "                    bottom=0.02, left=0.02, right=0.98)\n",
    "\n",
    "plt.show()"
   ]
  },
  {
   "cell_type": "code",
   "execution_count": null,
   "metadata": {
    "collapsed": true
   },
   "outputs": [],
   "source": []
  },
  {
   "cell_type": "code",
   "execution_count": null,
   "metadata": {
    "collapsed": true
   },
   "outputs": [],
   "source": []
  }
 ],
 "metadata": {
  "kernelspec": {
   "display_name": "Python 3",
   "language": "python",
   "name": "python3"
  },
  "language_info": {
   "codemirror_mode": {
    "name": "ipython",
    "version": 3
   },
   "file_extension": ".py",
   "mimetype": "text/x-python",
   "name": "python",
   "nbconvert_exporter": "python",
   "pygments_lexer": "ipython3",
   "version": "3.4.3"
  }
 },
 "nbformat": 4,
 "nbformat_minor": 0
}
